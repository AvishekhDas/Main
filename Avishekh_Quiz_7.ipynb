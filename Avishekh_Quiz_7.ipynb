{
  "nbformat": 4,
  "nbformat_minor": 0,
  "metadata": {
    "colab": {
      "name": "Avishekh_Quiz_7.ipynb",
      "version": "0.3.2",
      "provenance": [],
      "collapsed_sections": [],
      "include_colab_link": true
    },
    "kernelspec": {
      "name": "python3",
      "display_name": "Python 3"
    },
    "accelerator": "GPU"
  },
  "cells": [
    {
      "cell_type": "markdown",
      "metadata": {
        "id": "view-in-github",
        "colab_type": "text"
      },
      "source": [
        "<a href=\"https://colab.research.google.com/github/AvishekhDas/Main/blob/master/Avishekh_Quiz_7.ipynb\" target=\"_parent\"><img src=\"https://colab.research.google.com/assets/colab-badge.svg\" alt=\"Open In Colab\"/></a>"
      ]
    },
    {
      "cell_type": "markdown",
      "metadata": {
        "id": "aNyZv-Ec52ot",
        "colab_type": "text"
      },
      "source": [
        "# **Import Libraries and modules**"
      ]
    },
    {
      "cell_type": "code",
      "metadata": {
        "id": "3m3w1Cw49Zkt",
        "colab_type": "code",
        "outputId": "3b86a75a-ef3d-422a-9b4d-8b38969ed4e2",
        "colab": {
          "base_uri": "https://localhost:8080/",
          "height": 34
        }
      },
      "source": [
        "# https://keras.io/\n",
        "!pip install -q keras\n",
        "import keras\n",
        "import datetime\n",
        "print(datetime.datetime.now())\n",
        "\n",
        "from keras import backend as K\n",
        "import time\n",
        "import matplotlib.pyplot as plt\n",
        "import numpy as np\n",
        "% matplotlib inline\n",
        "np.random.seed(2017) \n",
        "from keras.layers.convolutional import Convolution2D, MaxPooling2D\n",
        "from keras.layers import Activation, Flatten, Dense, Dropout\n",
        "from keras.layers.normalization import BatchNormalization\n",
        "from keras.utils import np_utils\n",
        "from keras.models import Model\n",
        "from keras.layers import Input, concatenate, add, ZeroPadding1D, Reshape, merge\n",
        "from keras.layers.convolutional import Conv2D, DepthwiseConv2D, SeparableConv2D\n",
        "from keras.layers import Flatten, GlobalAveragePooling2D\n",
        "from keras.layers.pooling import MaxPooling2D\n",
        "from keras.layers import Dense, Lambda"
      ],
      "execution_count": 93,
      "outputs": [
        {
          "output_type": "stream",
          "text": [
            "2019-06-18 18:13:35.203442\n"
          ],
          "name": "stdout"
        }
      ]
    },
    {
      "cell_type": "code",
      "metadata": {
        "id": "Eso6UHE080D4",
        "colab_type": "code",
        "outputId": "fc403590-dd9b-48b3-b7de-d9a28bddae19",
        "colab": {
          "base_uri": "https://localhost:8080/",
          "height": 34
        }
      },
      "source": [
        "import numpy as np\n",
        "\n",
        "from keras.models import Sequential\n",
        "from keras.layers import Dense, Dropout, Activation, Flatten, Add\n",
        "from keras.layers import Convolution2D, MaxPooling2D\n",
        "from keras.utils import np_utils\n",
        "\n",
        "from keras.datasets import mnist\n",
        "print(datetime.datetime.now())"
      ],
      "execution_count": 94,
      "outputs": [
        {
          "output_type": "stream",
          "text": [
            "2019-06-18 18:13:35.219739\n"
          ],
          "name": "stdout"
        }
      ]
    },
    {
      "cell_type": "markdown",
      "metadata": {
        "id": "zByEi95J86RD",
        "colab_type": "text"
      },
      "source": [
        "### Load pre-shuffled MNIST data into train and test sets"
      ]
    },
    {
      "cell_type": "code",
      "metadata": {
        "id": "7eRM0QWN83PV",
        "colab_type": "code",
        "outputId": "a34ea4c8-e766-4cdd-e743-f99c8c429748",
        "colab": {
          "base_uri": "https://localhost:8080/",
          "height": 34
        }
      },
      "source": [
        "(X_train, y_train), (X_test, y_test) = mnist.load_data()\n",
        "print(datetime.datetime.now())"
      ],
      "execution_count": 95,
      "outputs": [
        {
          "output_type": "stream",
          "text": [
            "2019-06-18 18:13:35.535288\n"
          ],
          "name": "stdout"
        }
      ]
    },
    {
      "cell_type": "code",
      "metadata": {
        "id": "4a4Be72j8-ZC",
        "colab_type": "code",
        "outputId": "8f3328e4-9e63-4582-d7c7-d720c71e4d23",
        "colab": {
          "base_uri": "https://localhost:8080/",
          "height": 303
        }
      },
      "source": [
        "print (X_train.shape)\n",
        "from matplotlib import pyplot as plt\n",
        "%matplotlib inline\n",
        "plt.imshow(X_train[0])\n",
        "print(datetime.datetime.now())"
      ],
      "execution_count": 96,
      "outputs": [
        {
          "output_type": "stream",
          "text": [
            "(60000, 28, 28)\n",
            "2019-06-18 18:13:35.565923\n"
          ],
          "name": "stdout"
        },
        {
          "output_type": "display_data",
          "data": {
            "image/png": "[encoded data removed]",
            "text/plain": [
              "<Figure size 432x288 with 1 Axes>"
            ]
          },
          "metadata": {
            "tags": []
          }
        }
      ]
    },
    {
      "cell_type": "code",
      "metadata": {
        "id": "dkmprriw9AnZ",
        "colab_type": "code",
        "outputId": "ba54fd5e-6fe0-4c24-8046-ee5a06524cb2",
        "colab": {
          "base_uri": "https://localhost:8080/",
          "height": 34
        }
      },
      "source": [
        "X_train = X_train.reshape(X_train.shape[0], 28, 28,1)\n",
        "X_test = X_test.reshape(X_test.shape[0], 28, 28,1)\n",
        "print(datetime.datetime.now())"
      ],
      "execution_count": 97,
      "outputs": [
        {
          "output_type": "stream",
          "text": [
            "2019-06-18 18:13:35.724792\n"
          ],
          "name": "stdout"
        }
      ]
    },
    {
      "cell_type": "code",
      "metadata": {
        "id": "X2m4YS4E9CRh",
        "colab_type": "code",
        "outputId": "360f84f6-8f3e-44e8-b100-a5690b199373",
        "colab": {
          "base_uri": "https://localhost:8080/",
          "height": 34
        }
      },
      "source": [
        "X_train = X_train.astype('float32')\n",
        "X_test = X_test.astype('float32')\n",
        "X_train /= 255\n",
        "X_test /= 255\n",
        "print(datetime.datetime.now())"
      ],
      "execution_count": 98,
      "outputs": [
        {
          "output_type": "stream",
          "text": [
            "2019-06-18 18:13:35.920747\n"
          ],
          "name": "stdout"
        }
      ]
    },
    {
      "cell_type": "code",
      "metadata": {
        "id": "0Mn0vAYD9DvB",
        "colab_type": "code",
        "outputId": "9c83a797-f5c5-472c-d588-9d941a58b726",
        "colab": {
          "base_uri": "https://localhost:8080/",
          "height": 34
        }
      },
      "source": [
        "y_train[:10]\n",
        "print(datetime.datetime.now())"
      ],
      "execution_count": 99,
      "outputs": [
        {
          "output_type": "stream",
          "text": [
            "2019-06-18 18:13:35.929180\n"
          ],
          "name": "stdout"
        }
      ]
    },
    {
      "cell_type": "code",
      "metadata": {
        "id": "ZG8JiXR39FHC",
        "colab_type": "code",
        "outputId": "b4be1b04-5bbf-4a29-a405-3b1ce2e4155f",
        "colab": {
          "base_uri": "https://localhost:8080/",
          "height": 34
        }
      },
      "source": [
        "# Convert 1-dimensional class arrays to 10-dimensional class matrices\n",
        "Y_train = np_utils.to_categorical(y_train, 10)\n",
        "Y_test = np_utils.to_categorical(y_test, 10)\n",
        "print(datetime.datetime.now())"
      ],
      "execution_count": 100,
      "outputs": [
        {
          "output_type": "stream",
          "text": [
            "2019-06-18 18:13:35.941911\n"
          ],
          "name": "stdout"
        }
      ]
    },
    {
      "cell_type": "code",
      "metadata": {
        "id": "fYlFRvKS9HMB",
        "colab_type": "code",
        "outputId": "16a68a17-eb92-489c-8c20-a5553fc3fc78",
        "colab": {
          "base_uri": "https://localhost:8080/",
          "height": 34
        }
      },
      "source": [
        "Y_train[:10]\n",
        "print(datetime.datetime.now())"
      ],
      "execution_count": 101,
      "outputs": [
        {
          "output_type": "stream",
          "text": [
            "2019-06-18 18:13:35.947861\n"
          ],
          "name": "stdout"
        }
      ]
    },
    {
      "cell_type": "code",
      "metadata": {
        "id": "osKqT73Q9JJB",
        "colab_type": "code",
        "outputId": "fcc1ae35-c53c-40b0-a7dd-88d4f272fdfd",
        "colab": {
          "base_uri": "https://localhost:8080/",
          "height": 1278
        }
      },
      "source": [
        "## MAIN BLOCK\n",
        "\n",
        "def space_to_depth_x2(x):\n",
        "  return tf.space_to_depth(x, block_size=2)\n",
        "\n",
        "\n",
        "x1 = Input(shape=(28,28,1), name='inputlayer')\n",
        "\n",
        "x2= Conv2D(32, kernel_size=(3,3), activation='relu', border_mode='same', name=\"x2\")(x1)\n",
        "concat1 = add([x1, x2])\n",
        "x3 = Conv2D(32, kernel_size=(3,3), activation='relu', border_mode='same', name=\"x3\")(concat1)\n",
        "concat2 = add([x1, x2, x3])\n",
        "x4 = MaxPooling2D(pool_size=(2,2), name=\"x4\")(concat2)\n",
        "x5 = Conv2D(32, kernel_size=(3,3), activation='relu', border_mode='same', name=\"x5\")(x4)\n",
        "concat3 = add([x4, x5])\n",
        "x6 = Conv2D(32, kernel_size=(3,3), activation='relu', border_mode='same', name=\"x6\")(concat3)\n",
        "concat4 = add([x4, x5, x6])\n",
        "x7 = Conv2D(32, kernel_size=(3,3), activation='relu', border_mode='same', name=\"x7\")(concat4)\n",
        "concat5 = add([x5, x6, x7])\n",
        "x8 = MaxPooling2D(pool_size=(2,2), name=\"x8\")(concat5)\n",
        "x9 = Conv2D(32, kernel_size=(3,3), activation='relu', border_mode='same', name=\"x9\")(x8)\n",
        "concat6 = add([x8, x9])\n",
        "x10 = Conv2D(32, kernel_size=(3,3), activation='relu', border_mode='same', name=\"x10\")(concat6)\n",
        "concat7 = add([x8, x9, x10])\n",
        "x11 = Conv2D(32, kernel_size=(3,3), activation='relu', border_mode='same', name=\"x11\")(concat7)\n",
        "\n",
        "x12 = Conv2D(10, kernel_size=(7,7), activation='relu', name=\"x12\")(x11)\n",
        "\n",
        "xflat = Flatten()(x12)\n",
        "output = Activation('softmax')(xflat)\n",
        "\n",
        "model = Model(inputs=x1, outputs=output)\n",
        "model.summary()\n",
        "\n",
        "print(datetime.datetime.now())\n"
      ],
      "execution_count": 102,
      "outputs": [
        {
          "output_type": "stream",
          "text": [
            "__________________________________________________________________________________________________\n",
            "Layer (type)                    Output Shape         Param #     Connected to                     \n",
            "==================================================================================================\n",
            "inputlayer (InputLayer)         (None, 28, 28, 1)    0                                            \n",
            "__________________________________________________________________________________________________\n",
            "x2 (Conv2D)                     (None, 28, 28, 32)   320         inputlayer[0][0]                 \n",
            "__________________________________________________________________________________________________\n",
            "add_51 (Add)                    (None, 28, 28, 32)   0           inputlayer[0][0]                 \n",
            "                                                                 x2[0][0]                         \n",
            "__________________________________________________________________________________________________\n",
            "x3 (Conv2D)                     (None, 28, 28, 32)   9248        add_51[0][0]                     \n",
            "__________________________________________________________________________________________________\n",
            "add_52 (Add)                    (None, 28, 28, 32)   0           inputlayer[0][0]                 \n",
            "                                                                 x2[0][0]                         \n",
            "                                                                 x3[0][0]                         \n",
            "__________________________________________________________________________________________________\n",
            "x4 (MaxPooling2D)               (None, 14, 14, 32)   0           add_52[0][0]                     \n",
            "__________________________________________________________________________________________________\n",
            "x5 (Conv2D)                     (None, 14, 14, 32)   9248        x4[0][0]                         \n",
            "__________________________________________________________________________________________________\n",
            "add_53 (Add)                    (None, 14, 14, 32)   0           x4[0][0]                         \n",
            "                                                                 x5[0][0]                         \n",
            "__________________________________________________________________________________________________\n",
            "x6 (Conv2D)                     (None, 14, 14, 32)   9248        add_53[0][0]                     \n",
            "__________________________________________________________________________________________________\n",
            "add_54 (Add)                    (None, 14, 14, 32)   0           x4[0][0]                         \n",
            "                                                                 x5[0][0]                         \n",
            "                                                                 x6[0][0]                         \n",
            "__________________________________________________________________________________________________\n",
            "x7 (Conv2D)                     (None, 14, 14, 32)   9248        add_54[0][0]                     \n",
            "__________________________________________________________________________________________________\n",
            "add_55 (Add)                    (None, 14, 14, 32)   0           x5[0][0]                         \n",
            "                                                                 x6[0][0]                         \n",
            "                                                                 x7[0][0]                         \n",
            "__________________________________________________________________________________________________\n",
            "x8 (MaxPooling2D)               (None, 7, 7, 32)     0           add_55[0][0]                     \n",
            "__________________________________________________________________________________________________\n",
            "x9 (Conv2D)                     (None, 7, 7, 32)     9248        x8[0][0]                         \n",
            "__________________________________________________________________________________________________\n",
            "add_56 (Add)                    (None, 7, 7, 32)     0           x8[0][0]                         \n",
            "                                                                 x9[0][0]                         \n",
            "__________________________________________________________________________________________________\n",
            "x10 (Conv2D)                    (None, 7, 7, 32)     9248        add_56[0][0]                     \n",
            "__________________________________________________________________________________________________\n",
            "add_57 (Add)                    (None, 7, 7, 32)     0           x8[0][0]                         \n",
            "                                                                 x9[0][0]                         \n",
            "                                                                 x10[0][0]                        \n",
            "__________________________________________________________________________________________________\n",
            "x11 (Conv2D)                    (None, 7, 7, 32)     9248        add_57[0][0]                     \n",
            "__________________________________________________________________________________________________\n",
            "x12 (Conv2D)                    (None, 1, 1, 10)     15690       x11[0][0]                        \n",
            "__________________________________________________________________________________________________\n",
            "flatten_9 (Flatten)             (None, 10)           0           x12[0][0]                        \n",
            "__________________________________________________________________________________________________\n",
            "activation_9 (Activation)       (None, 10)           0           flatten_9[0][0]                  \n",
            "==================================================================================================\n",
            "Total params: 80,746\n",
            "Trainable params: 80,746\n",
            "Non-trainable params: 0\n",
            "__________________________________________________________________________________________________\n",
            "2019-06-18 18:13:36.121537\n"
          ],
          "name": "stdout"
        },
        {
          "output_type": "stream",
          "text": [
            "/usr/local/lib/python3.6/dist-packages/ipykernel_launcher.py:8: UserWarning: Update your `Conv2D` call to the Keras 2 API: `Conv2D(32, kernel_size=(3, 3), activation=\"relu\", name=\"x2\", padding=\"same\")`\n",
            "  \n",
            "/usr/local/lib/python3.6/dist-packages/ipykernel_launcher.py:10: UserWarning: Update your `Conv2D` call to the Keras 2 API: `Conv2D(32, kernel_size=(3, 3), activation=\"relu\", name=\"x3\", padding=\"same\")`\n",
            "  # Remove the CWD from sys.path while we load stuff.\n",
            "/usr/local/lib/python3.6/dist-packages/ipykernel_launcher.py:13: UserWarning: Update your `Conv2D` call to the Keras 2 API: `Conv2D(32, kernel_size=(3, 3), activation=\"relu\", name=\"x5\", padding=\"same\")`\n",
            "  del sys.path[0]\n",
            "/usr/local/lib/python3.6/dist-packages/ipykernel_launcher.py:15: UserWarning: Update your `Conv2D` call to the Keras 2 API: `Conv2D(32, kernel_size=(3, 3), activation=\"relu\", name=\"x6\", padding=\"same\")`\n",
            "  from ipykernel import kernelapp as app\n",
            "/usr/local/lib/python3.6/dist-packages/ipykernel_launcher.py:17: UserWarning: Update your `Conv2D` call to the Keras 2 API: `Conv2D(32, kernel_size=(3, 3), activation=\"relu\", name=\"x7\", padding=\"same\")`\n",
            "/usr/local/lib/python3.6/dist-packages/ipykernel_launcher.py:20: UserWarning: Update your `Conv2D` call to the Keras 2 API: `Conv2D(32, kernel_size=(3, 3), activation=\"relu\", name=\"x9\", padding=\"same\")`\n",
            "/usr/local/lib/python3.6/dist-packages/ipykernel_launcher.py:22: UserWarning: Update your `Conv2D` call to the Keras 2 API: `Conv2D(32, kernel_size=(3, 3), activation=\"relu\", name=\"x10\", padding=\"same\")`\n",
            "/usr/local/lib/python3.6/dist-packages/ipykernel_launcher.py:24: UserWarning: Update your `Conv2D` call to the Keras 2 API: `Conv2D(32, kernel_size=(3, 3), activation=\"relu\", name=\"x11\", padding=\"same\")`\n"
          ],
          "name": "stderr"
        }
      ]
    },
    {
      "cell_type": "code",
      "metadata": {
        "id": "2xBrZwTjywAh",
        "colab_type": "code",
        "colab": {}
      },
      "source": [
        ""
      ],
      "execution_count": 0,
      "outputs": []
    },
    {
      "cell_type": "code",
      "metadata": {
        "id": "Zp6SuGrL9M3h",
        "colab_type": "code",
        "outputId": "34c9e7ed-9991-420f-c286-cc3e547a0b75",
        "colab": {
          "base_uri": "https://localhost:8080/",
          "height": 34
        }
      },
      "source": [
        "model.compile(loss='categorical_crossentropy',\n",
        "             optimizer='adam',\n",
        "             metrics=['accuracy'])\n",
        "print(datetime.datetime.now())"
      ],
      "execution_count": 103,
      "outputs": [
        {
          "output_type": "stream",
          "text": [
            "2019-06-18 18:13:36.184383\n"
          ],
          "name": "stdout"
        }
      ]
    },
    {
      "cell_type": "code",
      "metadata": {
        "id": "4xWoKhPY9Of5",
        "colab_type": "code",
        "outputId": "7ee8c779-e66a-4414-82ff-d22865f38649",
        "colab": {
          "base_uri": "https://localhost:8080/",
          "height": 408
        }
      },
      "source": [
        "model.fit(X_train, Y_train, batch_size=32, nb_epoch=10, verbose=1)\n",
        "print(datetime.datetime.now())"
      ],
      "execution_count": 104,
      "outputs": [
        {
          "output_type": "stream",
          "text": [
            "/usr/local/lib/python3.6/dist-packages/ipykernel_launcher.py:1: UserWarning: The `nb_epoch` argument in `fit` has been renamed `epochs`.\n",
            "  \"\"\"Entry point for launching an IPython kernel.\n"
          ],
          "name": "stderr"
        },
        {
          "output_type": "stream",
          "text": [
            "Epoch 1/10\n",
            "60000/60000 [==============================] - 16s 259us/step - loss: 1.4430 - acc: 0.4035\n",
            "Epoch 2/10\n",
            "60000/60000 [==============================] - 15s 244us/step - loss: 1.2051 - acc: 0.4910\n",
            "Epoch 3/10\n",
            "60000/60000 [==============================] - 14s 240us/step - loss: 1.1929 - acc: 0.4929\n",
            "Epoch 4/10\n",
            "60000/60000 [==============================] - 15s 247us/step - loss: 1.0680 - acc: 0.5476\n",
            "Epoch 5/10\n",
            "60000/60000 [==============================] - 14s 241us/step - loss: 0.9504 - acc: 0.5975\n",
            "Epoch 6/10\n",
            "60000/60000 [==============================] - 14s 241us/step - loss: 0.9449 - acc: 0.5981\n",
            "Epoch 7/10\n",
            "60000/60000 [==============================] - 15s 244us/step - loss: 0.9415 - acc: 0.5984\n",
            "Epoch 8/10\n",
            "60000/60000 [==============================] - 15s 245us/step - loss: 0.9393 - acc: 0.5985\n",
            "Epoch 9/10\n",
            "60000/60000 [==============================] - 15s 242us/step - loss: 0.9375 - acc: 0.5988\n",
            "Epoch 10/10\n",
            "60000/60000 [==============================] - 14s 241us/step - loss: 0.9374 - acc: 0.5986\n",
            "2019-06-18 18:16:03.741904\n"
          ],
          "name": "stdout"
        }
      ]
    },
    {
      "cell_type": "code",
      "metadata": {
        "id": "AtsH-lLk-eLb",
        "colab_type": "code",
        "colab": {
          "base_uri": "https://localhost:8080/",
          "height": 34
        },
        "outputId": "1ca2a40b-9fe3-43f9-8407-2014b7c324c8"
      },
      "source": [
        "score = model.evaluate(X_test, Y_test, verbose=0)\n",
        "print(datetime.datetime.now())"
      ],
      "execution_count": 105,
      "outputs": [
        {
          "output_type": "stream",
          "text": [
            "2019-06-18 18:16:04.695518\n"
          ],
          "name": "stdout"
        }
      ]
    },
    {
      "cell_type": "code",
      "metadata": {
        "id": "mkX8JMv79q9r",
        "colab_type": "code",
        "colab": {
          "base_uri": "https://localhost:8080/",
          "height": 51
        },
        "outputId": "7d1b5283-678a-4b71-812a-de187d7cbe71"
      },
      "source": [
        "print(score)\n",
        "print(datetime.datetime.now())"
      ],
      "execution_count": 106,
      "outputs": [
        {
          "output_type": "stream",
          "text": [
            "[0.947069901752472, 0.6]\n",
            "2019-06-18 18:16:04.707087\n"
          ],
          "name": "stdout"
        }
      ]
    }
  ]
}